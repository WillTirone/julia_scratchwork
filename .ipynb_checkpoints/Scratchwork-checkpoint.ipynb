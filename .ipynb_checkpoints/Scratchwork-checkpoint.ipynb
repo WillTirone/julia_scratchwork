{
 "cells": [
  {
   "cell_type": "code",
   "execution_count": 12,
   "id": "6d4bb92e",
   "metadata": {},
   "outputs": [],
   "source": [
    "using LinearAlgebra\n",
    "using RowEchelon\n",
    "using Plots"
   ]
  },
  {
   "cell_type": "markdown",
   "id": "eac0e998",
   "metadata": {},
   "source": [
    "$A = LU$"
   ]
  },
  {
   "cell_type": "code",
   "execution_count": 8,
   "id": "f6b9a040",
   "metadata": {},
   "outputs": [
    {
     "data": {
      "text/plain": [
       "3×3 Matrix{Int64}:\n",
       " 2  1  0\n",
       " 0  4  2\n",
       " 6  3  5"
      ]
     },
     "execution_count": 8,
     "metadata": {},
     "output_type": "execute_result"
    }
   ],
   "source": [
    "A = [2 1 0;\n",
    "    0 4 2;\n",
    "    6 3 5;]"
   ]
  },
  {
   "cell_type": "code",
   "execution_count": 9,
   "id": "1b765463",
   "metadata": {},
   "outputs": [
    {
     "data": {
      "text/plain": [
       "3×3 Matrix{Int64}:\n",
       "  1  0  0\n",
       "  0  1  0\n",
       " -3  0  1"
      ]
     },
     "execution_count": 9,
     "metadata": {},
     "output_type": "execute_result"
    }
   ],
   "source": [
    "E = [1 0 0;\n",
    "    0 1 0;\n",
    "    -3 0 1;]"
   ]
  },
  {
   "cell_type": "code",
   "execution_count": 10,
   "id": "e45de5c6",
   "metadata": {},
   "outputs": [
    {
     "data": {
      "text/plain": [
       "3×3 Matrix{Int64}:\n",
       " 2  1  0\n",
       " 0  4  2\n",
       " 0  0  5"
      ]
     },
     "execution_count": 10,
     "metadata": {},
     "output_type": "execute_result"
    }
   ],
   "source": [
    "U = E * A"
   ]
  },
  {
   "cell_type": "code",
   "execution_count": 14,
   "id": "5829ed84",
   "metadata": {},
   "outputs": [
    {
     "data": {
      "text/plain": [
       "3×3 Matrix{Float64}:\n",
       " 1.0  0.0  0.0\n",
       " 0.0  1.0  0.0\n",
       " 3.0  0.0  1.0"
      ]
     },
     "execution_count": 14,
     "metadata": {},
     "output_type": "execute_result"
    }
   ],
   "source": [
    "L = E^(-1)"
   ]
  },
  {
   "cell_type": "code",
   "execution_count": 13,
   "id": "f2c835de",
   "metadata": {},
   "outputs": [
    {
     "data": {
      "text/plain": [
       "true"
      ]
     },
     "execution_count": 13,
     "metadata": {},
     "output_type": "execute_result"
    }
   ],
   "source": [
    "A == E^(-1) * U"
   ]
  },
  {
   "cell_type": "markdown",
   "id": "da3188b3",
   "metadata": {},
   "source": [
    "### #6\n",
    "$LU = E_{21}^{-1}E_{32}^{-1}U$"
   ]
  },
  {
   "cell_type": "code",
   "execution_count": 66,
   "id": "22aa1ef4",
   "metadata": {},
   "outputs": [
    {
     "data": {
      "text/plain": [
       "3×3 Matrix{Int64}:\n",
       " 1   0  0\n",
       " 0   1  0\n",
       " 0  -2  1"
      ]
     },
     "execution_count": 66,
     "metadata": {},
     "output_type": "execute_result"
    }
   ],
   "source": [
    "A = [1 1 1;\n",
    "    2 4 5;\n",
    "    0 4 0;]\n",
    "    \n",
    "E_21 = [0 0 0;\n",
    "        -2 0 0;\n",
    "        0 0 0;] + I\n",
    "        \n",
    "E_32 = [1 0 0; 0 1 0; 0 -2 1]"
   ]
  },
  {
   "cell_type": "code",
   "execution_count": 77,
   "id": "84b0898e",
   "metadata": {
    "scrolled": false
   },
   "outputs": [
    {
     "data": {
      "text/plain": [
       "3×3 Matrix{Float64}:\n",
       " 1.0  0.0  0.0\n",
       " 2.0  1.0  0.0\n",
       " 0.0  2.0  1.0"
      ]
     },
     "execution_count": 77,
     "metadata": {},
     "output_type": "execute_result"
    }
   ],
   "source": [
    "# upper triangular \n",
    "U = E_32 * E_21* A \n",
    "L = (E_32 * E_21)^(-1) "
   ]
  },
  {
   "cell_type": "code",
   "execution_count": 79,
   "id": "bd2f4b71",
   "metadata": {
    "scrolled": false
   },
   "outputs": [
    {
     "data": {
      "text/plain": [
       "true"
      ]
     },
     "execution_count": 79,
     "metadata": {},
     "output_type": "execute_result"
    }
   ],
   "source": [
    "A == L*U"
   ]
  },
  {
   "cell_type": "code",
   "execution_count": 80,
   "id": "9405d517",
   "metadata": {},
   "outputs": [
    {
     "data": {
      "text/plain": [
       "LU{Float64, Matrix{Float64}}\n",
       "L factor:\n",
       "3×3 Matrix{Float64}:\n",
       " 1.0   0.0   0.0\n",
       " 0.0   1.0   0.0\n",
       " 0.5  -0.25  1.0\n",
       "U factor:\n",
       "3×3 Matrix{Float64}:\n",
       " 2.0  4.0   5.0\n",
       " 0.0  4.0   0.0\n",
       " 0.0  0.0  -1.5"
      ]
     },
     "execution_count": 80,
     "metadata": {},
     "output_type": "execute_result"
    }
   ],
   "source": [
    "L,U = lu(A)"
   ]
  },
  {
   "cell_type": "markdown",
   "id": "6bb66dfc",
   "metadata": {},
   "source": [
    "inverse property of matrices"
   ]
  },
  {
   "cell_type": "code",
   "execution_count": 70,
   "id": "8c497f0b",
   "metadata": {},
   "outputs": [
    {
     "data": {
      "text/plain": [
       "true"
      ]
     },
     "execution_count": 70,
     "metadata": {},
     "output_type": "execute_result"
    }
   ],
   "source": [
    "(E_32 * E_21)^(-1) == E_21^(-1) * E_32^(-1)"
   ]
  },
  {
   "cell_type": "code",
   "execution_count": 84,
   "id": "a6d8adc9",
   "metadata": {},
   "outputs": [
    {
     "data": {
      "text/plain": [
       "2×2 Matrix{Int64}:\n",
       " 1  2\n",
       " 3  4"
      ]
     },
     "execution_count": 84,
     "metadata": {},
     "output_type": "execute_result"
    }
   ],
   "source": [
    "P = [0 1; 1 0];\n",
    "Q = [1 2; 3 4];"
   ]
  },
  {
   "cell_type": "code",
   "execution_count": 85,
   "id": "eeb6c261",
   "metadata": {},
   "outputs": [
    {
     "data": {
      "text/plain": [
       "2×2 Matrix{Int64}:\n",
       " 3  4\n",
       " 1  2"
      ]
     },
     "execution_count": 85,
     "metadata": {},
     "output_type": "execute_result"
    }
   ],
   "source": [
    "P * Q"
   ]
  },
  {
   "cell_type": "code",
   "execution_count": 6,
   "id": "ae49ce78",
   "metadata": {},
   "outputs": [
    {
     "data": {
      "text/plain": [
       "3×4 Matrix{Int64}:\n",
       " 1  1  1  2\n",
       " 0  1  1  3\n",
       " 0  0  1  4"
      ]
     },
     "execution_count": 6,
     "metadata": {},
     "output_type": "execute_result"
    }
   ],
   "source": [
    "A = [1 1 1 2;\n",
    "    0 1 1 3;\n",
    "    0 0 1 4]"
   ]
  },
  {
   "cell_type": "code",
   "execution_count": 7,
   "id": "61afe7d7",
   "metadata": {},
   "outputs": [
    {
     "data": {
      "text/plain": [
       "LU{Float64, Matrix{Float64}}\n",
       "L factor:\n",
       "3×3 Matrix{Float64}:\n",
       " 1.0  0.0  0.0\n",
       " 0.0  1.0  0.0\n",
       " 0.0  0.0  1.0\n",
       "U factor:\n",
       "3×4 Matrix{Float64}:\n",
       " 1.0  1.0  1.0  2.0\n",
       " 0.0  1.0  1.0  3.0\n",
       " 0.0  0.0  1.0  4.0"
      ]
     },
     "execution_count": 7,
     "metadata": {},
     "output_type": "execute_result"
    }
   ],
   "source": [
    "lu(A)"
   ]
  },
  {
   "cell_type": "markdown",
   "id": "d36b4b19",
   "metadata": {},
   "source": [
    "$N(A)$ is the orthogonal compliment of the row space $C(A^T)$ (in $R^n$)\n",
    "\n",
    "$N(A^T)$ is the orthogonal compliment of the column space $C(A)$ (in $R^m$)"
   ]
  },
  {
   "cell_type": "code",
   "execution_count": 2,
   "id": "d4f265cf",
   "metadata": {},
   "outputs": [
    {
     "data": {
      "text/plain": [
       "4×4 Matrix{Int64}:\n",
       " 1  2  0  0\n",
       " 2  1  2  0\n",
       " 0  2  1  2\n",
       " 0  0  2  1"
      ]
     },
     "execution_count": 2,
     "metadata": {},
     "output_type": "execute_result"
    }
   ],
   "source": [
    "#A is square and invertible\n",
    "\n",
    "A = [\n",
    "1 2 0 0;\n",
    "2 1 2 0; \n",
    "0 2 1 2; \n",
    "0 0 2 1;\n",
    "]"
   ]
  },
  {
   "cell_type": "code",
   "execution_count": 10,
   "id": "50b50828",
   "metadata": {},
   "outputs": [
    {
     "data": {
      "text/plain": [
       "1×4 Matrix{Int64}:\n",
       " 1  2  3  4"
      ]
     },
     "execution_count": 10,
     "metadata": {},
     "output_type": "execute_result"
    }
   ],
   "source": [
    "b = [1 2 3 4]"
   ]
  },
  {
   "cell_type": "code",
   "execution_count": 16,
   "id": "03fd8759",
   "metadata": {
    "scrolled": true
   },
   "outputs": [
    {
     "data": {
      "text/plain": [
       "4×1 Matrix{Float64}:\n",
       " -3.0\n",
       "  2.0\n",
       "  3.0\n",
       " -2.0"
      ]
     },
     "execution_count": 16,
     "metadata": {},
     "output_type": "execute_result"
    }
   ],
   "source": [
    "\\(A, transpose(b))"
   ]
  },
  {
   "cell_type": "code",
   "execution_count": 25,
   "id": "0ef1afea",
   "metadata": {},
   "outputs": [
    {
     "data": {
      "text/plain": [
       "4×4 Matrix{Float64}:\n",
       " 1.0  0.0  0.0  0.0\n",
       " 0.0  1.0  0.0  0.0\n",
       " 0.0  0.0  1.0  0.0\n",
       " 0.0  0.0  0.0  1.0"
      ]
     },
     "execution_count": 25,
     "metadata": {},
     "output_type": "execute_result"
    }
   ],
   "source": [
    "R = rref(A)"
   ]
  },
  {
   "cell_type": "code",
   "execution_count": 27,
   "id": "b9709a44",
   "metadata": {},
   "outputs": [
    {
     "data": {
      "text/plain": [
       "SVD{Float64, Float64, Matrix{Float64}}\n",
       "U factor:\n",
       "4×4 Matrix{Float64}:\n",
       " -0.371748  -0.316228  -0.632456   0.601501\n",
       " -0.601501  -0.632456   0.316228  -0.371748\n",
       " -0.601501   0.632456  -0.316228  -0.371748\n",
       " -0.371748   0.316228   0.632456   0.601501\n",
       "singular values:\n",
       "4-element Vector{Float64}:\n",
       " 4.236067977499789\n",
       " 2.2360679774997907\n",
       " 2.2360679774997894\n",
       " 0.23606797749978914\n",
       "Vt factor:\n",
       "4×4 Matrix{Float64}:\n",
       " -0.371748  -0.601501     -0.601501     -0.371748\n",
       " -0.707107  -2.63125e-16  -4.10804e-17   0.707107\n",
       " -0.0       -0.707107      0.707107     -2.22045e-16\n",
       " -0.601501   0.371748      0.371748     -0.601501"
      ]
     },
     "execution_count": 27,
     "metadata": {},
     "output_type": "execute_result"
    }
   ],
   "source": [
    "U,S,D = svd(A)"
   ]
  },
  {
   "cell_type": "code",
   "execution_count": 3,
   "id": "fd38b6cf",
   "metadata": {},
   "outputs": [
    {
     "data": {
      "text/plain": [
       "4×0 Matrix{Float64}"
      ]
     },
     "execution_count": 3,
     "metadata": {},
     "output_type": "execute_result"
    }
   ],
   "source": [
    "#just the zero vector!\n",
    "nullspace(A) "
   ]
  },
  {
   "cell_type": "code",
   "execution_count": 14,
   "id": "45c7325d",
   "metadata": {},
   "outputs": [
    {
     "data": {
      "text/plain": [
       "3×1 Matrix{Float64}:\n",
       " 0.0\n",
       " 0.0\n",
       " 1.0"
      ]
     },
     "execution_count": 14,
     "metadata": {},
     "output_type": "execute_result"
    }
   ],
   "source": [
    "M = [1 0 0; 0 1 0; 0 0 0]\n",
    "nullspace(M)"
   ]
  },
  {
   "cell_type": "markdown",
   "id": "19a4d490",
   "metadata": {},
   "source": [
    "Project b onto the column space of A by solving $A^TA\\hat{x} = A^Tb$"
   ]
  },
  {
   "cell_type": "code",
   "execution_count": 22,
   "id": "da24b70f",
   "metadata": {},
   "outputs": [
    {
     "data": {
      "text/plain": [
       "4-element Vector{Float64}:\n",
       " 1.0\n",
       " 2.0\n",
       " 3.0\n",
       " 0.0"
      ]
     },
     "execution_count": 22,
     "metadata": {},
     "output_type": "execute_result"
    }
   ],
   "source": [
    "A = [1 0 0; 0 1 0; 0 0 1; 0 0 0]\n",
    "b = [1;2;3;4]\n",
    "\n",
    "A_T_A = transpose(A)*A\n",
    "x_hat = inv(A_T_A)*transpose(A)*b\n",
    "p = A*x_hat"
   ]
  },
  {
   "cell_type": "code",
   "execution_count": null,
   "id": "ea68f26a",
   "metadata": {},
   "outputs": [],
   "source": []
  }
 ],
 "metadata": {
  "kernelspec": {
   "display_name": "Julia 1.7.2",
   "language": "julia",
   "name": "julia-1.7"
  },
  "language_info": {
   "file_extension": ".jl",
   "mimetype": "application/julia",
   "name": "julia",
   "version": "1.7.2"
  }
 },
 "nbformat": 4,
 "nbformat_minor": 5
}
