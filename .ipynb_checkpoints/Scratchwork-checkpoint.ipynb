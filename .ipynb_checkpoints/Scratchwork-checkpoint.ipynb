{
 "cells": [
  {
   "cell_type": "code",
   "execution_count": 7,
   "id": "6d4bb92e",
   "metadata": {},
   "outputs": [],
   "source": [
    "using LinearAlgebra"
   ]
  },
  {
   "cell_type": "markdown",
   "id": "eac0e998",
   "metadata": {},
   "source": [
    "$A = LU$"
   ]
  },
  {
   "cell_type": "code",
   "execution_count": 8,
   "id": "f6b9a040",
   "metadata": {},
   "outputs": [
    {
     "data": {
      "text/plain": [
       "3×3 Matrix{Int64}:\n",
       " 2  1  0\n",
       " 0  4  2\n",
       " 6  3  5"
      ]
     },
     "execution_count": 8,
     "metadata": {},
     "output_type": "execute_result"
    }
   ],
   "source": [
    "A = [2 1 0;\n",
    "    0 4 2;\n",
    "    6 3 5;]"
   ]
  },
  {
   "cell_type": "code",
   "execution_count": 9,
   "id": "1b765463",
   "metadata": {},
   "outputs": [
    {
     "data": {
      "text/plain": [
       "3×3 Matrix{Int64}:\n",
       "  1  0  0\n",
       "  0  1  0\n",
       " -3  0  1"
      ]
     },
     "execution_count": 9,
     "metadata": {},
     "output_type": "execute_result"
    }
   ],
   "source": [
    "E = [1 0 0;\n",
    "    0 1 0;\n",
    "    -3 0 1;]"
   ]
  },
  {
   "cell_type": "code",
   "execution_count": 10,
   "id": "e45de5c6",
   "metadata": {},
   "outputs": [
    {
     "data": {
      "text/plain": [
       "3×3 Matrix{Int64}:\n",
       " 2  1  0\n",
       " 0  4  2\n",
       " 0  0  5"
      ]
     },
     "execution_count": 10,
     "metadata": {},
     "output_type": "execute_result"
    }
   ],
   "source": [
    "U = E * A"
   ]
  },
  {
   "cell_type": "code",
   "execution_count": 14,
   "id": "5829ed84",
   "metadata": {},
   "outputs": [
    {
     "data": {
      "text/plain": [
       "3×3 Matrix{Float64}:\n",
       " 1.0  0.0  0.0\n",
       " 0.0  1.0  0.0\n",
       " 3.0  0.0  1.0"
      ]
     },
     "execution_count": 14,
     "metadata": {},
     "output_type": "execute_result"
    }
   ],
   "source": [
    "L = E^(-1)"
   ]
  },
  {
   "cell_type": "code",
   "execution_count": 13,
   "id": "f2c835de",
   "metadata": {},
   "outputs": [
    {
     "data": {
      "text/plain": [
       "true"
      ]
     },
     "execution_count": 13,
     "metadata": {},
     "output_type": "execute_result"
    }
   ],
   "source": [
    "A == E^(-1) * U"
   ]
  },
  {
   "cell_type": "markdown",
   "id": "da3188b3",
   "metadata": {},
   "source": [
    "### #6\n",
    "$LU = E_{21}^{-1}E_{32}^{-1}U$"
   ]
  },
  {
   "cell_type": "code",
   "execution_count": 66,
   "id": "22aa1ef4",
   "metadata": {},
   "outputs": [
    {
     "data": {
      "text/plain": [
       "3×3 Matrix{Int64}:\n",
       " 1   0  0\n",
       " 0   1  0\n",
       " 0  -2  1"
      ]
     },
     "execution_count": 66,
     "metadata": {},
     "output_type": "execute_result"
    }
   ],
   "source": [
    "A = [1 1 1;\n",
    "    2 4 5;\n",
    "    0 4 0;]\n",
    "    \n",
    "E_21 = [0 0 0;\n",
    "        -2 0 0;\n",
    "        0 0 0;] + I\n",
    "        \n",
    "E_32 = [1 0 0; 0 1 0; 0 -2 1]"
   ]
  },
  {
   "cell_type": "code",
   "execution_count": 77,
   "id": "84b0898e",
   "metadata": {
    "scrolled": false
   },
   "outputs": [
    {
     "data": {
      "text/plain": [
       "3×3 Matrix{Float64}:\n",
       " 1.0  0.0  0.0\n",
       " 2.0  1.0  0.0\n",
       " 0.0  2.0  1.0"
      ]
     },
     "execution_count": 77,
     "metadata": {},
     "output_type": "execute_result"
    }
   ],
   "source": [
    "# upper triangular \n",
    "U = E_32 * E_21* A \n",
    "L = (E_32 * E_21)^(-1) "
   ]
  },
  {
   "cell_type": "code",
   "execution_count": 79,
   "id": "bd2f4b71",
   "metadata": {
    "scrolled": false
   },
   "outputs": [
    {
     "data": {
      "text/plain": [
       "true"
      ]
     },
     "execution_count": 79,
     "metadata": {},
     "output_type": "execute_result"
    }
   ],
   "source": [
    "A == L*U"
   ]
  },
  {
   "cell_type": "code",
   "execution_count": 80,
   "id": "9405d517",
   "metadata": {},
   "outputs": [
    {
     "data": {
      "text/plain": [
       "LU{Float64, Matrix{Float64}}\n",
       "L factor:\n",
       "3×3 Matrix{Float64}:\n",
       " 1.0   0.0   0.0\n",
       " 0.0   1.0   0.0\n",
       " 0.5  -0.25  1.0\n",
       "U factor:\n",
       "3×3 Matrix{Float64}:\n",
       " 2.0  4.0   5.0\n",
       " 0.0  4.0   0.0\n",
       " 0.0  0.0  -1.5"
      ]
     },
     "execution_count": 80,
     "metadata": {},
     "output_type": "execute_result"
    }
   ],
   "source": [
    "L,U = lu(A)"
   ]
  },
  {
   "cell_type": "markdown",
   "id": "6bb66dfc",
   "metadata": {},
   "source": [
    "inverse property of matrices"
   ]
  },
  {
   "cell_type": "code",
   "execution_count": 70,
   "id": "8c497f0b",
   "metadata": {},
   "outputs": [
    {
     "data": {
      "text/plain": [
       "true"
      ]
     },
     "execution_count": 70,
     "metadata": {},
     "output_type": "execute_result"
    }
   ],
   "source": [
    "(E_32 * E_21)^(-1) == E_21^(-1) * E_32^(-1)"
   ]
  },
  {
   "cell_type": "code",
   "execution_count": 84,
   "id": "a6d8adc9",
   "metadata": {},
   "outputs": [
    {
     "data": {
      "text/plain": [
       "2×2 Matrix{Int64}:\n",
       " 1  2\n",
       " 3  4"
      ]
     },
     "execution_count": 84,
     "metadata": {},
     "output_type": "execute_result"
    }
   ],
   "source": [
    "P = [0 1; 1 0];\n",
    "Q = [1 2; 3 4];"
   ]
  },
  {
   "cell_type": "code",
   "execution_count": 85,
   "id": "eeb6c261",
   "metadata": {},
   "outputs": [
    {
     "data": {
      "text/plain": [
       "2×2 Matrix{Int64}:\n",
       " 3  4\n",
       " 1  2"
      ]
     },
     "execution_count": 85,
     "metadata": {},
     "output_type": "execute_result"
    }
   ],
   "source": [
    "P * Q"
   ]
  },
  {
   "cell_type": "code",
   "execution_count": null,
   "id": "ae49ce78",
   "metadata": {},
   "outputs": [],
   "source": []
  }
 ],
 "metadata": {
  "kernelspec": {
   "display_name": "Julia 1.7.2",
   "language": "julia",
   "name": "julia-1.7"
  },
  "language_info": {
   "file_extension": ".jl",
   "mimetype": "application/julia",
   "name": "julia",
   "version": "1.7.2"
  }
 },
 "nbformat": 4,
 "nbformat_minor": 5
}
